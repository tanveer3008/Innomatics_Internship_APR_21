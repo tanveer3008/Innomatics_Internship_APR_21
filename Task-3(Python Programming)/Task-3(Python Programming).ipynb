{
 "cells": [
  {
   "cell_type": "code",
   "execution_count": 7,
   "id": "decimal-saudi",
   "metadata": {},
   "outputs": [
    {
     "name": "stdout",
     "output_type": "stream",
     "text": [
      "5+5j\n",
      "5.0\n",
      "5.0\n"
     ]
    }
   ],
   "source": [
    "#Question-1\n",
    "#You are given a complex . Your task is to convert it to polar coordinates.\n",
    "\n",
    "\n",
    "import cmath\n",
    "from math import atan2\n",
    "\n",
    "num = complex(input())\n",
    "z = complex(num)\n",
    "x = z.real\n",
    "y = z.imag\n",
    "print(x)\n",
    "print(y)\n",
    "r = (x**2+y**2)**.5\n",
    "theta = atan2(y,x)\n",
    "print(r)\n",
    "print(theta)\n",
    "\n"
   ]
  },
  {
   "cell_type": "code",
   "execution_count": null,
   "id": "moved-special",
   "metadata": {},
   "outputs": [],
   "source": [
    "#Question-2\n",
    "# Find Angle MBC\n",
    "import math\n",
    "\n",
    "AB = int(input())\n",
    "BC = int(input())\n",
    "\n",
    "H = math.sqrt(AB**2 + BC**2)\n",
    "H = H/2.0\n",
    "adj = BC/2.0\n",
    "\n",
    "Output = int(round(math.degrees(math.acos(adj/H))))\n",
    "\n",
    "Output = str(Output)\n",
    "degree_sign = u\"\\N{DEGREE SIGN}\"\n",
    "\n",
    "\n",
    "print(Output + degree_sign )\n",
    "\n"
   ]
  },
  {
   "cell_type": "code",
   "execution_count": null,
   "id": "thrown-efficiency",
   "metadata": {},
   "outputs": [],
   "source": [
    "#Question -3\n",
    "#You are given a positive integer n .\n",
    "#Your task is to print a palindromic triangle of size n\n",
    "\n",
    "\n",
    "#Logic = 1*1 =1 , 11*11 = 121 , 111*111 = 12321\n",
    "\n",
    "\n",
    "for i in range(1,int(input())+1): #More than 2 lines will result in 0 score. Do not leave a blank line also\n",
    "    print(int(((10**i-1)/(9))**2))"
   ]
  },
  {
   "cell_type": "code",
   "execution_count": 3,
   "id": "silent-syria",
   "metadata": {},
   "outputs": [
    {
     "name": "stdout",
     "output_type": "stream",
     "text": [
      "1\n",
      "4\n",
      "0.25\n",
      "1\n",
      "[0.25, 1]\n"
     ]
    }
   ],
   "source": [
    "#Question-4\n",
    "#mod-divmod\n",
    "#Read in two integers,  and , and print three lines.\n",
    "#The first line is the integer division a//b (While using Python2 remember to import division from __future__).\n",
    "#The second line is the result of the modulo operator: a%b .\n",
    "#The third line prints the divmod of a and b.\n",
    "\n",
    "\n",
    "\n",
    "a = int(input())\n",
    "b = int(input())\n",
    "c = a/b\n",
    "d = a % b\n",
    "print(c)\n",
    "print(d)\n",
    "e = [ c , d]\n",
    "print(e)"
   ]
  },
  {
   "cell_type": "code",
   "execution_count": null,
   "id": "published-rogers",
   "metadata": {},
   "outputs": [],
   "source": [
    "#Question-5\n",
    "#power-mod-powe\n",
    "a=int(input())\n",
    "b=int(input())\n",
    "c = int(input())\n",
    "d = a**b\n",
    "e = d % c\n",
    "print(d)\n",
    "print(e)"
   ]
  },
  {
   "cell_type": "code",
   "execution_count": 4,
   "id": "tribal-valuation",
   "metadata": {},
   "outputs": [
    {
     "name": "stdout",
     "output_type": "stream",
     "text": [
      "9\n",
      "29\n",
      "7\n",
      "27\n",
      "4710194409608608369201743232\n"
     ]
    }
   ],
   "source": [
    "#Question-6\n",
    "#integers come in all size\n",
    "a=int(input())\n",
    "b = int(input())\n",
    "c=int(input())\n",
    "d=int(input())\n",
    "\n",
    "e = a**b + c**d\n",
    "print(e)"
   ]
  },
  {
   "cell_type": "code",
   "execution_count": 11,
   "id": "burning-waste",
   "metadata": {},
   "outputs": [
    {
     "name": "stdout",
     "output_type": "stream",
     "text": [
      "3\n",
      "1\n",
      "22\n"
     ]
    }
   ],
   "source": [
    "#Question-6\n",
    "#Triangle Quest\n",
    "for i in range(1,int(input())): #More than 2 lines will result in 0 score. Do not leave a blank line also\n",
    "         print(int((10**i - 1) / 9)*i)\n",
    "         "
   ]
  },
  {
   "cell_type": "code",
   "execution_count": null,
   "id": "floppy-hotel",
   "metadata": {},
   "outputs": [],
   "source": []
  }
 ],
 "metadata": {
  "kernelspec": {
   "display_name": "Python 3",
   "language": "python",
   "name": "python3"
  },
  "language_info": {
   "codemirror_mode": {
    "name": "ipython",
    "version": 3
   },
   "file_extension": ".py",
   "mimetype": "text/x-python",
   "name": "python",
   "nbconvert_exporter": "python",
   "pygments_lexer": "ipython3",
   "version": "3.8.7"
  }
 },
 "nbformat": 4,
 "nbformat_minor": 5
}

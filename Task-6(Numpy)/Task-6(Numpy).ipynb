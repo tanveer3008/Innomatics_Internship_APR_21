{
 "cells": [
  {
   "cell_type": "code",
   "execution_count": 2,
   "id": "delayed-invalid",
   "metadata": {},
   "outputs": [
    {
     "name": "stdout",
     "output_type": "stream",
     "text": [
      "5\n",
      "[5.]\n"
     ]
    }
   ],
   "source": [
    "#Question-1\n",
    "#Numpy\n",
    "import numpy\n",
    "\n",
    "\n",
    "def arrays(arr):\n",
    "    array = numpy.array(arr , float)\n",
    "    return array[::-1]\n",
    "\n",
    "arr = input().strip().split(' ')\n",
    "result = arrays(arr)\n",
    "print(result)"
   ]
  },
  {
   "cell_type": "code",
   "execution_count": 5,
   "id": "light-attribute",
   "metadata": {},
   "outputs": [
    {
     "name": "stdout",
     "output_type": "stream",
     "text": [
      "9\n",
      "1\n",
      "2\n",
      "3\n",
      "4\n",
      "5\n",
      "6\n",
      "7\n",
      "8\n",
      "9\n",
      "[[1 2 3]\n",
      " [4 5 6]\n",
      " [7 8 9]]\n"
     ]
    }
   ],
   "source": [
    "import numpy\n",
    "a = int(input())\n",
    "list1 = []\n",
    "for i in range(a):\n",
    "    b = int(input())\n",
    "    list1.append(b)\n",
    "    \n",
    "#print(list1)\n",
    "array = numpy.array(list1)\n",
    "print (numpy.reshape(array,(3,3)))\n",
    "\n"
   ]
  },
  {
   "cell_type": "code",
   "execution_count": null,
   "id": "charged-insight",
   "metadata": {},
   "outputs": [],
   "source": [
    "#Question-2\n",
    "#Concatenate\n",
    "import numpy\n",
    "N,M, P= map(int, input().split())\n",
    "A= numpy.array([ ( input().split())  for i in range(N)] , int  )\n",
    "B= numpy.array([( input().split())  for i in range(M)] ,int )\n",
    "\n",
    "print (numpy.concatenate((A,B),axis =0))"
   ]
  },
  {
   "cell_type": "code",
   "execution_count": 8,
   "id": "downtown-template",
   "metadata": {},
   "outputs": [
    {
     "name": "stdout",
     "output_type": "stream",
     "text": [
      "2 2\n",
      "2 2\n",
      "2 2 \n",
      "2 2 \n",
      "2 2\n",
      "[[4 4]\n",
      " [4 4]]\n",
      "[[0 0]\n",
      " [0 0]]\n",
      "[[4 4]\n",
      " [4 4]]\n",
      "[[1 1]\n",
      " [1 1]]\n",
      "[[0 0]\n",
      " [0 0]]\n",
      "[[4 4]\n",
      " [4 4]]\n"
     ]
    }
   ],
   "source": [
    "#Array Mathematics\n",
    "import numpy\n",
    "N, M = map(int, input().split())\n",
    "\n",
    "A = numpy.array([list(map(int, input().split())) for i in range(N)])\n",
    "B = numpy.array([list(map(int, input().split())) for i in range(N)])\n",
    "\n",
    "print(A + B)\n",
    "print(A - B)\n",
    "print(A * B)\n",
    "print(A // B)\n",
    "print(A % B)\n",
    "print(A ** B)"
   ]
  },
  {
   "cell_type": "code",
   "execution_count": null,
   "id": "sublime-tampa",
   "metadata": {},
   "outputs": [],
   "source": [
    "#Sum And Product\n",
    "import numpy\n",
    "N, M = map(int, input().split())\n",
    "A= numpy.array([ ( input().split())  for i in range(N)] , int  )\n",
    "B = numpy.sum(A, axis = 0) \n",
    "print( numpy.prod(B, axis = 0) )          "
   ]
  },
  {
   "cell_type": "code",
   "execution_count": 2,
   "id": "reserved-creativity",
   "metadata": {},
   "outputs": [
    {
     "name": "stdout",
     "output_type": "stream",
     "text": [
      "2\n",
      "1 2 \n",
      "3 4\n",
      "-2.0\n"
     ]
    }
   ],
   "source": [
    "#Linear Algebra\n",
    "\n",
    "import numpy\n",
    "a = int(input())\n",
    "A = numpy.array([input().split() for _ in range(a)], float)\n",
    "\n",
    "\n",
    "Y =  round(numpy.linalg.det(A),2)\n",
    "print(Y)\n"
   ]
  },
  {
   "cell_type": "code",
   "execution_count": 10,
   "id": "revised-india",
   "metadata": {},
   "outputs": [
    {
     "name": "stdout",
     "output_type": "stream",
     "text": [
      "0 1\n",
      "3 4\n",
      "4\n",
      "[[0 0]\n",
      " [3 4]]\n"
     ]
    }
   ],
   "source": [
    "#inner and outer\n",
    "import numpy\n",
    "#m = int(input())\n",
    "#A = numpy.array(int ,input().split() for i in range(m) )\n",
    "#B = numpy.array(int ,input().split() for i in range(m))\n",
    "A = numpy.array(input().split()  , int )\n",
    "\n",
    "B = numpy.array(input().split()  , int )\n",
    "print (numpy.inner(A, B))\n",
    "print (numpy.outer(A, B))"
   ]
  },
  {
   "cell_type": "code",
   "execution_count": 13,
   "id": "pointed-finger",
   "metadata": {},
   "outputs": [
    {
     "name": "stdout",
     "output_type": "stream",
     "text": [
      "3 4 5\n",
      "[[[0 0 0 0 0]\n",
      "  [0 0 0 0 0]\n",
      "  [0 0 0 0 0]\n",
      "  [0 0 0 0 0]]\n",
      "\n",
      " [[0 0 0 0 0]\n",
      "  [0 0 0 0 0]\n",
      "  [0 0 0 0 0]\n",
      "  [0 0 0 0 0]]\n",
      "\n",
      " [[0 0 0 0 0]\n",
      "  [0 0 0 0 0]\n",
      "  [0 0 0 0 0]\n",
      "  [0 0 0 0 0]]]\n",
      "[[[1 1 1 1 1]\n",
      "  [1 1 1 1 1]\n",
      "  [1 1 1 1 1]\n",
      "  [1 1 1 1 1]]\n",
      "\n",
      " [[1 1 1 1 1]\n",
      "  [1 1 1 1 1]\n",
      "  [1 1 1 1 1]\n",
      "  [1 1 1 1 1]]\n",
      "\n",
      " [[1 1 1 1 1]\n",
      "  [1 1 1 1 1]\n",
      "  [1 1 1 1 1]\n",
      "  [1 1 1 1 1]]]\n"
     ]
    }
   ],
   "source": [
    "# zeroes and ones\n",
    "import numpy\n",
    "\n",
    "N = tuple(map(int, input().split()))\n",
    "print(numpy.zeros(N, int))\n",
    "print(numpy.ones(N, int))"
   ]
  },
  {
   "cell_type": "code",
   "execution_count": null,
   "id": "indirect-bubble",
   "metadata": {},
   "outputs": [],
   "source": [
    "#Eye and identity\n",
    "import numpy\n",
    "n, m = [int(x) for x in input().strip().split()]\n",
    "numpy.set_printoptions(legacy = '1.13')\n",
    "\n",
    "print(numpy.eye(n, m))\n"
   ]
  },
  {
   "cell_type": "code",
   "execution_count": null,
   "id": "senior-threshold",
   "metadata": {},
   "outputs": [],
   "source": [
    "# Shape and reshape\n",
    "import numpy\n",
    "#a = int(input())\n",
    "array = [int(x) for x in input().strip().split()]\n",
    "numpy.set_printoptions(legacy = '1.13')\n",
    "\n",
    "print(numpy.reshape(array ,(3,3)))\n"
   ]
  },
  {
   "cell_type": "code",
   "execution_count": null,
   "id": "aggregate-eating",
   "metadata": {},
   "outputs": [],
   "source": [
    "#min and max\n",
    "import numpy\n",
    "N , M = map(int ,input().split())\n",
    "\n",
    "array = numpy.array([input().split() for _ in range(N)],int)\n",
    "a = numpy.min(array, axis=1)\n",
    "print(numpy.max(a, axis=0))"
   ]
  },
  {
   "cell_type": "code",
   "execution_count": null,
   "id": "municipal-ontario",
   "metadata": {},
   "outputs": [],
   "source": [
    "#floor ceil and rint\n",
    "import numpy\n",
    "array = numpy.array(input().split() , float)\n",
    "numpy.set_printoptions(legacy = '1.13')\n",
    "print (numpy.floor(array))\n",
    "print (numpy.ceil(array))\n",
    "print (numpy.rint(array))"
   ]
  },
  {
   "cell_type": "code",
   "execution_count": null,
   "id": "increased-insurance",
   "metadata": {},
   "outputs": [],
   "source": [
    "#transpose and flatten\n",
    "import numpy\n",
    "N , M =  map(int , input().split())\n",
    "array = numpy.array([input().strip().split() for _ in range(N)], int)\n",
    "print (numpy.transpose(array))\n",
    "print (array.flatten())\n"
   ]
  },
  {
   "cell_type": "code",
   "execution_count": null,
   "id": "incorrect-university",
   "metadata": {},
   "outputs": [],
   "source": [
    "#mean variance and std\n",
    "import numpy\n",
    "N , M =  map(int , input().split())\n",
    "array = numpy.array([input().strip().split() for _ in range(N)], int)\n",
    "print (numpy.mean(array, axis = 1))\n",
    "print( numpy.var(array, axis = 0) )        \n",
    "d = (numpy.std(array , axis = None))\n",
    "f = round(d,11)\n",
    "print(f)          "
   ]
  },
  {
   "cell_type": "code",
   "execution_count": 1,
   "id": "liable-russian",
   "metadata": {},
   "outputs": [
    {
     "name": "stdout",
     "output_type": "stream",
     "text": [
      "2\n",
      "1 2\n",
      "3 4\n",
      "1 2\n",
      "3 4\n",
      "[[ 7 10]\n",
      " [15 22]]\n"
     ]
    }
   ],
   "source": [
    "#Dot and cross\n",
    "import numpy\n",
    "N = int(input())\n",
    "array1 = numpy.array([input().split() for _ in range(N)], int)\n",
    "array2 = numpy.array([input().split() for _ in range(N)] , int)\n",
    "print(numpy.dot(array1 , array2))"
   ]
  },
  {
   "cell_type": "code",
   "execution_count": null,
   "id": "mature-struggle",
   "metadata": {},
   "outputs": [],
   "source": [
    "#Polynomial\n",
    "import numpy\n",
    "array = numpy.array(input().split(),float)\n",
    "x = int(input())\n",
    "print(numpy.polyval(array,x))"
   ]
  }
 ],
 "metadata": {
  "kernelspec": {
   "display_name": "Python 3",
   "language": "python",
   "name": "python3"
  },
  "language_info": {
   "codemirror_mode": {
    "name": "ipython",
    "version": 3
   },
   "file_extension": ".py",
   "mimetype": "text/x-python",
   "name": "python",
   "nbconvert_exporter": "python",
   "pygments_lexer": "ipython3",
   "version": "3.8.7"
  }
 },
 "nbformat": 4,
 "nbformat_minor": 5
}

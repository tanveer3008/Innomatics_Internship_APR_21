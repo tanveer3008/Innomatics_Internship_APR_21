{
 "cells": [
  {
   "cell_type": "code",
   "execution_count": null,
   "id": "intermediate-enlargement",
   "metadata": {},
   "outputs": [],
   "source": [
    "#Question1-List COmprehension\n",
    "# Let's learn about list comprehensions! You are given three integers X, Y and Z representing the dimensions of a cuboid along with an\n",
    "# integer N. You have to print a list of all possible coordinates given by (i, j, k) on a 3D grid where the sum of i + j + k  is not\n",
    "# equal to N. Here, 0 <= i <= X; 0 <= j <= Y; 0 <= k <= Z \n",
    "\n",
    "# Input Format\n",
    "# Four integers X, Y, Z and N each on four separate lines, respectively.\n",
    "\n",
    "# Constraints\n",
    "# Print the list in lexicographic increasing order.\n",
    "\n",
    "# Sample Input\n",
    "# 1\n",
    "# 1\n",
    "# 1\n",
    "# 2\n",
    "\n",
    "# Sample Output\n",
    "# [[0, 0, 0], [0, 0, 1], [0, 1, 0], [1, 0, 0], [1, 1, 1]]\n",
    "if __name__ == '__main__':\n",
    "    x = int(input())\n",
    "    y = int(input())\n",
    "    z = int(input())\n",
    "    n = int(input())\n",
    "    list1 = []\n",
    "    \n",
    "    for i in range (x+1):\n",
    "        for j in range (y+1):\n",
    "            for k in range (z+1):\n",
    "                if (i+j+k !=n):\n",
    "                    ans = [i , j , k]\n",
    "                    list1.append(ans)\n",
    "print(list1)"
   ]
  },
  {
   "cell_type": "code",
   "execution_count": null,
   "id": "accessible-tolerance",
   "metadata": {},
   "outputs": [],
   "source": [
    "if __name__ == '__main__':\n",
    "    list1 = []\n",
    "    n = int(input())\n",
    "    for i in range(n):\n",
    "        \n",
    "        arr = list(map(int, input().split()))\n",
    "\n",
    "        print(arr)\n",
    "    \n"
   ]
  },
  {
   "cell_type": "code",
   "execution_count": null,
   "id": "continued-vienna",
   "metadata": {},
   "outputs": [],
   "source": [
    "n = int(input())\n",
    "arr = list(map(int, input().split()))\n",
    "print(arr)\n",
    "#print(max([x for x in arr if x != max(arr)])"
   ]
  },
  {
   "cell_type": "code",
   "execution_count": 10,
   "id": "developing-comfort",
   "metadata": {},
   "outputs": [
    {
     "name": "stdout",
     "output_type": "stream",
     "text": [
      "3\n",
      "harry\n",
      "11\n",
      "shardul\n",
      "12\n",
      "harry\n",
      "15\n",
      "shardul\n"
     ]
    }
   ],
   "source": [
    "#Nested_list\n",
    "\n",
    "if __name__ == '__main__':\n",
    "    records=[]\n",
    "    scores=[]\n",
    "final=[]\n",
    "n=int(input())\n",
    "for _ in range(n):\n",
    "    name = input()\n",
    "    score = float(input())\n",
    "    records.append([name, score])\n",
    "    scores.append(score)\n",
    "    scores.sort()\n",
    "for i in range(len(scores)):\n",
    "    if scores[i]<scores[i+1]:\n",
    "        x=scores[i+1]\n",
    "        break\n",
    "for i in range(n):\n",
    "    if records[i][1]==x:\n",
    "        final.append(records[i][0])\n",
    "        final.sort()\n",
    "for j in range(len(final)):\n",
    "    print(final[j])\n"
   ]
  },
  {
   "cell_type": "code",
   "execution_count": null,
   "id": "political-diploma",
   "metadata": {},
   "outputs": [],
   "source": [
    "n = int(input())\n",
    "    student_marks = {}\n",
    "    for _ in range(n):\n",
    "        name, *line = input().split()\n",
    "        scores = list(map(float, line))\n",
    "        student_marks[name] = scores\n",
    "    query_name = input()"
   ]
  },
  {
   "cell_type": "code",
   "execution_count": null,
   "id": "drawn-empire",
   "metadata": {},
   "outputs": [],
   "source": [
    "#Lists \n",
    "N = int(input())\n",
    "    \n",
    "    Output = [];\n",
    "    for i in range(0,N):\n",
    "        ip = input().split();\n",
    "        if ip[0] == \"print\":\n",
    "            print(Output)\n",
    "        elif ip[0] == \"insert\":\n",
    "            Output.insert(int(ip[1]),int(ip[2]))\n",
    "        elif ip[0] == \"remove\":\n",
    "            Output.remove(int(ip[1]))\n",
    "        elif ip[0] == \"pop\":\n",
    "            Output.pop();\n",
    "        elif ip[0] == \"append\":\n",
    "            Output.append(int(ip[1]))\n",
    "        elif ip[0] == \"sort\":\n",
    "            Output.sort();\n",
    "        else:\n",
    "            Output.reverse();"
   ]
  },
  {
   "cell_type": "code",
   "execution_count": null,
   "id": "tender-license",
   "metadata": {},
   "outputs": [],
   "source": [
    "from decimal import Decimal\n",
    "if __name__ == '__main__':\n",
    "    \n",
    "    n = int(input())\n",
    "    student_marks = {}\n",
    "    for _ in range(n):\n",
    "        name, *line = input().split()\n",
    "        scores = list(map(float, line))\n",
    "        student_marks[name] = scores\n",
    "    query_name = input()\n",
    "\n",
    "\n",
    "\n",
    "query_scores = student_marks[query_name]\n",
    "\n",
    "\n",
    "total_scores = sum(query_scores)\n",
    "\n",
    "\n",
    "avg = Decimal(total_scores/3)\n",
    "\n",
    "\n",
    "print(round(avg,2))"
   ]
  },
  {
   "cell_type": "code",
   "execution_count": null,
   "id": "altered-defeat",
   "metadata": {},
   "outputs": [],
   "source": [
    "#tuple\n",
    "if __name__ == '__main__':\n",
    "    n = int(input())\n",
    "    input_list = map(int, input().strip().split())\n",
    "    input_list = [int(x) for x in input_list]\n",
    "    a = tuple(input_list)\n",
    "    t = hash(a)\n",
    "    print(t)"
   ]
  },
  {
   "cell_type": "code",
   "execution_count": null,
   "id": "expired-polymer",
   "metadata": {},
   "outputs": [],
   "source": [
    "#introduction to set\n",
    "def average(array):\n",
    "    array = set(array) # main property of set is it doesnt allow duplicates, so we have to convert list to set then have to find avg\n",
    "    return sum(array)/len(array)\n",
    "    \n",
    "\n",
    "if __name__ == '__main__':\n",
    "    n = int(input())\n",
    "    arr = list(map(int, input().split()))\n",
    "    result = average(arr)\n",
    "    print(result)"
   ]
  },
  {
   "cell_type": "code",
   "execution_count": null,
   "id": "cosmetic-breast",
   "metadata": {},
   "outputs": [],
   "source": [
    "#symmetric difference\n",
    "a,b=(int(input()),input().split())\n",
    "c,d=(int(input()),input().split())\n",
    "x=set(b)\n",
    "y=set(d)\n",
    "p=y.difference(x)\n",
    "q=x.difference(y)\n",
    "r=p.union(q) # union \n",
    "print ('\\n'.join(sorted(r, key=int)))# sorted, /n to print in new line\n"
   ]
  },
  {
   "cell_type": "code",
   "execution_count": null,
   "id": "hispanic-roads",
   "metadata": {},
   "outputs": [],
   "source": [
    "#set.add()\n",
    "#1st approach\n",
    "M =  int(input())\n",
    "list1= []\n",
    "for i in range(M):\n",
    "    country = input()\n",
    "    list1.append(country)\n",
    "    #print(list1)\n",
    "set1= set(list1)\n",
    "leng = len(set1)\n",
    "print(leng)\n",
    "\n",
    "\n",
    "#2nd approach\n",
    "\n",
    "M =  int(input())\n",
    "list1= []\n",
    "set1 = set(list1)\n",
    "for i in range(M):\n",
    "    country = input()\n",
    "    set1.add(country)\n",
    "    #print(list1)\n",
    "\n",
    "leng = len(set1)\n",
    "print(leng)"
   ]
  },
  {
   "cell_type": "code",
   "execution_count": null,
   "id": "upper-sample",
   "metadata": {},
   "outputs": [],
   "source": [
    "#set.discard ,set.remove , set.pop()\n",
    "n = input()\n",
    "s = set(map(int, input().split()))\n",
    "m=int(input())\n",
    "for i in range(m):\n",
    "    p=input().split()\n",
    "    if p[0]==\"remove\":\n",
    "        s.remove(int(p[1]))\n",
    "    elif p[0]==\"discard\":\n",
    "        s.discard(int(p[1]))\n",
    "    else:\n",
    "        s.pop()\n",
    "print(sum(list(s)))"
   ]
  },
  {
   "cell_type": "code",
   "execution_count": null,
   "id": "junior-george",
   "metadata": {},
   "outputs": [],
   "source": [
    "#set.union\n",
    "a = int(input())\n",
    "a_newspaper = input().split()\n",
    "b = int(input())\n",
    "b_newspaper = input().split()\n",
    "a =set(a_newspaper)\n",
    "b = set(b_newspaper)\n",
    "c = a.union(b)\n",
    "print(len(c))"
   ]
  },
  {
   "cell_type": "code",
   "execution_count": null,
   "id": "integral-hostel",
   "metadata": {},
   "outputs": [],
   "source": [
    "#set.intersection\n",
    "a = int(input())\n",
    "a_newspaper = input().split()\n",
    "b = int(input())\n",
    "b_newspaper = input().split()\n",
    "a =set(a_newspaper)\n",
    "b = set(b_newspaper)\n",
    "c = a.intersection(b)\n",
    "print(len(c))"
   ]
  },
  {
   "cell_type": "code",
   "execution_count": null,
   "id": "colored-species",
   "metadata": {},
   "outputs": [],
   "source": [
    "#set.difference()\n",
    "a = int(input())\n",
    "a_newspaper = input().split()\n",
    "b = int(input())\n",
    "b_newspaper = input().split()\n",
    "a =set(a_newspaper)\n",
    "b = set(b_newspaper)\n",
    "c = a.difference(b)\n",
    "print(len(c))"
   ]
  },
  {
   "cell_type": "code",
   "execution_count": null,
   "id": "utility-protein",
   "metadata": {},
   "outputs": [],
   "source": [
    "# set.mutation()\n",
    "length=int(input())\n",
    "s=set(map(int, input().split()))\n",
    "N=int(input())\n",
    "\n",
    "for i in range(N):\n",
    "    (p, q)=input().split()\n",
    "    s2=set(map(int, input().split()))\n",
    "    if p=='intersection_update':\n",
    "        s.intersection_update(s2)\n",
    "    elif p=='update':\n",
    "        s.update(s2)\n",
    "    elif p=='symmetric_difference_update':\n",
    "        s.symmetric_difference_update(s2)\n",
    "    elif p=='difference_update':\n",
    "        s.difference_update(s2)\n",
    "print (sum(s))"
   ]
  },
  {
   "cell_type": "code",
   "execution_count": null,
   "id": "hindu-mixture",
   "metadata": {},
   "outputs": [],
   "source": [
    "#The captains room\n",
    "d=input();  #sample\n",
    "a=input().split();  \n",
    "s1=set();  #all unique room number\n",
    "s2=set();  #all unique room number occur more than once\n",
    "for i in a:\n",
    "    if  i in s1:\n",
    "        s2.add(i);\n",
    "    else:\n",
    "        s1.add(i);\n",
    "s3=s1.difference(s2);\n",
    "print(list(s3)[0])"
   ]
  },
  {
   "cell_type": "code",
   "execution_count": null,
   "id": "corresponding-jenny",
   "metadata": {},
   "outputs": [],
   "source": [
    "#symmentric_difference()\n",
    "a = int(input())\n",
    "a_newspaper = input().split()\n",
    "b = int(input())\n",
    "b_newspaper = input().split()\n",
    "a =set(a_newspaper)\n",
    "b = set(b_newspaper)\n",
    "c = a.symmetric_difference(b)\n",
    "print(len(c))"
   ]
  },
  {
   "cell_type": "code",
   "execution_count": null,
   "id": "verbal-istanbul",
   "metadata": {},
   "outputs": [],
   "source": [
    "#Check_subset\n",
    "n = int(input())\n",
    "\n",
    "for i in range(n):\n",
    "    a = int(input())\n",
    "    set_a = set(input().split())\n",
    "    b = int(input())\n",
    "    set_b = set(input().split())\n",
    "    out_set = set_a.difference(set_b)\n",
    "    if len(out_set) == 0:\n",
    "        print(True)\n",
    "    else:\n",
    "        print(False)"
   ]
  },
  {
   "cell_type": "code",
   "execution_count": null,
   "id": "contemporary-abraham",
   "metadata": {},
   "outputs": [],
   "source": [
    "#check strict superset\n",
    "a = set(input().split())\n",
    "counter =  0\n",
    "n =  int(input())\n",
    "for i in range (n):\n",
    "        b = set(input().split())\n",
    "        if a.issuperset(b) :\n",
    "                counter += 1\n",
    "print(counter == n)\n"
   ]
  },
  {
   "cell_type": "code",
   "execution_count": 3,
   "id": "confidential-shark",
   "metadata": {},
   "outputs": [
    {
     "name": "stdout",
     "output_type": "stream",
     "text": [
      "5\n",
      "-7 -7 -7 -7 -6\n",
      "-6\n"
     ]
    }
   ],
   "source": [
    "   #find runner-up score\n",
    "    a = int(input())\n",
    "    b = input().split()\n",
    "    b = set(b)\n",
    "    c = list(b)\n",
    "    d = sorted(c)\n",
    "    d.pop()\n",
    "    print(d[-1])\n",
    "    \n",
    "    \n",
    "    \n",
    "    n = int(input())\n",
    "    arr = map(int,input().split())\n",
    "    print(sorted(list(set(arr)))[-2])\n",
    "    \n",
    "    "
   ]
  },
  {
   "cell_type": "code",
   "execution_count": null,
   "id": "integral-tyler",
   "metadata": {},
   "outputs": [],
   "source": [
    "#No_idea\n",
    "a=input().split()\n",
    "l=([int(i) for i in input().split()])\n",
    "A=set([int(i) for i in input().split()])\n",
    "B=set([int(i) for i in input().split()])\n",
    "p=0\n",
    "for i in l:\n",
    "    if i in A:\n",
    "        p+=1\n",
    "    if i in B:\n",
    "        p-=1\n",
    "print(p)\n"
   ]
  }
 ],
 "metadata": {
  "kernelspec": {
   "display_name": "Python 3",
   "language": "python",
   "name": "python3"
  },
  "language_info": {
   "codemirror_mode": {
    "name": "ipython",
    "version": 3
   },
   "file_extension": ".py",
   "mimetype": "text/x-python",
   "name": "python",
   "nbconvert_exporter": "python",
   "pygments_lexer": "ipython3",
   "version": "3.8.7"
  }
 },
 "nbformat": 4,
 "nbformat_minor": 5
}
